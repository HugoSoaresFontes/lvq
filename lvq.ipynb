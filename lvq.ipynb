{
 "cells": [
  {
   "cell_type": "markdown",
   "metadata": {},
   "source": [
    "<h3>Implementação da classe LVQ</h3>"
   ]
  },
  {
   "cell_type": "code",
   "execution_count": 234,
   "metadata": {
    "collapsed": true
   },
   "outputs": [],
   "source": [
    "import csv\n",
    "import random\n",
    "import numpy as np\n",
    "\n",
    "class LVQ(): \n",
    "    def __init__(self, dataset):\n",
    "        \"\"\"\n",
    "        Construtor da classe\n",
    "        :param nome_arquivo: nome do arquivo csv que contem os dados\n",
    "        \"\"\"\n",
    "        self.dados = dataset\n",
    "        self.dataset = dataset\n",
    "        self.qtd_caracteristicas = 0\n",
    "        self.amplitudes = []\n",
    "        self.qtd_caracteristicas = len(self.dados[0])-1\n",
    "        \n",
    "    def normalizar(self):\n",
    "        \"\"\"\n",
    "        Normalizada todas as caracteristicas para um intervalo de 0 - 1, para todas tenham o mesmo peso na \n",
    "        classificacao\n",
    "        \"\"\"\n",
    "        lista = []*(len(self.dados[0])-1)\n",
    "        self.amplitudes = []\n",
    "        for caracteristica in range(len(self.dados[0])-1):\n",
    "            lista = [elemento[caracteristica] for elemento in self.dados]\n",
    "            self.amplitudes += [[max(lista), min(lista)]]\n",
    "            for elemento in self.dados:\n",
    "                elemento[caracteristica] = (elemento[caracteristica] - min(lista))/(max(lista)+min(lista))\n",
    "        \n",
    "    def triagem(self, split: float=0.65):\n",
    "        \"\"\"\n",
    "        Divide aleatoriament os elementos do conjunto de dados em dois subconjuntos: teste e treino\n",
    "        :param split: de 0 a 1 -> 'porcentagem' dos elementos que serao do conjunto de treino\n",
    "        \"\"\"        \n",
    "        self.treino, self.teste = [], []\n",
    "        for elemento in self.dados:\n",
    "            if random.random() < split:\n",
    "                self.treino += [elemento]\n",
    "            else:\n",
    "                self.teste += [elemento]\n",
    "    \n",
    "    def resumir(self, n: float=10,  e: float=10, t: float=0.4):\n",
    "        \"\"\"\n",
    "        Retorna o codebook dos dados, ou seja, os elementos que melhor representam o todo\n",
    "        :param t: taxa de aprendizado inicial\n",
    "        :param e: numero de epocas\n",
    "        :param n: numero de elementos do coodbook \n",
    "        \"\"\"\n",
    "        #Geracacao aleatorio dos elementos iniciais do codebook         \n",
    "        self.codebook = [[]]*n\n",
    "        for i in range(n):\n",
    "            self.codebook[i] = [0] * (self.qtd_caracteristicas + 1)\n",
    "            for caracteristica in range(self.qtd_caracteristicas + 1):\n",
    "                self.codebook[i][caracteristica] = random.choice(self.dados)[caracteristica]\n",
    "\n",
    "        for epoca in range(e):\n",
    "            taxa = t * (1.0-(epoca/float(e)))\n",
    "            for elemento in self.treino:\n",
    "                representante = self.encontrar_mais_proximo(elemento, self.codebook)\n",
    "                o = -1\n",
    "                if representante[-1] == elemento[-1]:\n",
    "                    o = 1\n",
    "                for caracteristica in range(self.qtd_caracteristicas):\n",
    "                    erro = (elemento[caracteristica]-representante[caracteristica]) \n",
    "                    representante[caracteristica] += (erro * taxa * o)\n",
    "      \n",
    "    def testar(self):\n",
    "        \"\"\"\n",
    "        Executa a classificacao para cada elemento do conjunto teste e retorna a precisao do algoritmo\n",
    "        \"\"\"\n",
    "        qtd_teste = len(self.teste)\n",
    "        precisao = 100.0\n",
    "        for elemento in self.teste: \n",
    "            bmu = self.encontrar_mais_proximo(elemento, self.codebook)\n",
    "            if bmu[-1] != elemento[-1]:\n",
    "                precisao -= (1/qtd_teste)*100\n",
    " \n",
    "        return precisao\n",
    "    \n",
    "    def encontrar_mais_proximo(self, elemento, lista):\n",
    "        \"\"\"\n",
    "        Executa a classificacao para cada elemento do conjunto teste e retorna a precisao do algoritmo\n",
    "        :param elemento: vetor para o qual deve-se vetor mais proximo de uma dada lista\n",
    "        :param lista: lista de vetores\n",
    "        \"\"\"\n",
    "        resposta = [lista[0], spatial.distance.euclidean(elemento[0:-1], lista[0][0:-1])]\n",
    "        for i in lista:\n",
    "            distancia = spatial.distance.euclidean(elemento[0:-1], i[0:-1])\n",
    "            if distancia < resposta[1]: \n",
    "                resposta = [i, distancia]\n",
    "        return resposta[0]\n",
    "    \n",
    "    @property\n",
    "    def representantes(self):\n",
    "        \"\"\"\n",
    "        Retorna o codebook \"original\", com as caracteristicas em seus intervalos originais. Ou seja, \n",
    "        retorna o codebook desnormalizado, caso ele tenha sido normalizado\n",
    "        \"\"\"\n",
    "        representantes_desnormalizados = [[]]*len(self.codebook)\n",
    "        if self.amplitudes:\n",
    "            for index, representante in enumerate(self.codebook): \n",
    "                representante_desnormalizado = []\n",
    "                for caracteristica in range(self.qtd_caracteristicas):\n",
    "                    aux = ((self.amplitudes[caracteristica][0] + self.amplitudes[caracteristica][1])\\\n",
    "                          * representante[caracteristica]) + self.amplitudes[caracteristica][1]\n",
    "                    representante_desnormalizado += [aux]\n",
    "                representante_desnormalizado += [representante[-1]]    \n",
    "                representantes_desnormalizados[index] = representante_desnormalizado\n",
    "        else: \n",
    "            return self.codebook\n",
    "        \n",
    "        return representantes_desnormalizados\n",
    "    \n",
    "    @property\n",
    "    def classes(self): \n",
    "        \"\"\"\n",
    "        Retorna as classes do dataset\n",
    "        \"\"\"\n",
    "        classes = []\n",
    "        for elemento in self.dados:\n",
    "            if elemento[-1] not in classes:\n",
    "                classes.append(elemento[-1])\n",
    "        \n",
    "        return classes"
   ]
  },
  {
   "cell_type": "markdown",
   "metadata": {},
   "source": [
    "<h3>Algumas outras funções utilizadas</h3>"
   ]
  },
  {
   "cell_type": "code",
   "execution_count": 281,
   "metadata": {
    "collapsed": false
   },
   "outputs": [],
   "source": [
    "import random \n",
    "def importar_dataset(arquivo_csv: str=None):\n",
    "        \"\"\"\n",
    "        Carrega os dados iniciais da classe através de um arquivo csv. Esperar-se um arquivo possua linhas\n",
    "        com n colunas, de modo que a n-ézima represente a classe do elemento e as anteriores representem, \n",
    "        cada uma, uma caracteristica diferente.\n",
    "        :param arquivo_csv: nome do arquivo csv\n",
    "        \"\"\"\n",
    "        dados = []\n",
    "        with open(arquivo_csv, 'r') as arquivo_csv:\n",
    "            arquivo = csv.reader(arquivo_csv)\n",
    "            for index, linha in enumerate(arquivo):\n",
    "                if linha:\n",
    "                    dados += [list(map(float, linha[0:-1]))]\n",
    "                    dados[index] += [linha[-1]]\n",
    "        return dados\n",
    "\n",
    "def random_cores(qtd: int=3): \n",
    "    \"\"\"\n",
    "    Retorna aleatoriamente cores no formato hexademal de acordo com a quantidade pedida\n",
    "    \"\"\"\n",
    "    lista = [(210,180,140), (139,69,19), (244,164,96), (85,107,47), (0,255,0), (102,205,170), (127,255,212),\n",
    "            (72,209,204), (0,255,255), (176,196,222), (30,144,255), (0,0,255), (220,20,60), (255,105,180), \n",
    "             (255,0,255), (139,0,139), (255,192,203), (255,0,0), (250,128,114), (255,165,0), (255,255,0)]\n",
    "    \n",
    "    random.shuffle(lista)\n",
    "    cores = lista[0:qtd]\n",
    "    resposta = []\n",
    "    for cor in cores:\n",
    "        resposta += ['#%02x%02x%02x' % cor]\n",
    "    return resposta\n"
   ]
  },
  {
   "cell_type": "markdown",
   "metadata": {},
   "source": [
    "<h3>Aplicação da classe LVQ na classificação do conjunto de dados da IRIS</h3>"
   ]
  },
  {
   "cell_type": "code",
   "execution_count": 294,
   "metadata": {
    "collapsed": false
   },
   "outputs": [
    {
     "name": "stdout",
     "output_type": "stream",
     "text": [
      "Algoritmo com os dados normalizados entre 0 - 1\n",
      "Precisão:  97.22222222222223 % \n",
      "\n"
     ]
    },
    {
     "data": {
      "image/png": "[encoded data removed]",
      "text/plain": [
       "<matplotlib.figure.Figure at 0x7f807f7b4be0>"
      ]
     },
     "metadata": {},
     "output_type": "display_data"
    },
    {
     "name": "stdout",
     "output_type": "stream",
     "text": [
      "Algoritmo com os dados não normalizados\n",
      "Precisão:  95.55555555555554 % \n",
      "\n"
     ]
    }
   ],
   "source": [
    "import matplotlib.pyplot as plt\n",
    "dataset = importar_dataset(\"datas/IRIS.csv\")\n",
    "\n",
    "# Dados normalizados\n",
    "print(\"Algoritmo com os dados normalizados entre 0 - 1\")\n",
    "iris_norm = LVQ(dataset)\n",
    "iris_norm.triagem(0.75)\n",
    "iris_norm.normalizar()\n",
    "iris_norm.resumir(n=8, e=13, t=0.5)\n",
    "print(\"Precisão: \", iris_norm.testar(), \"% \\n\")\n",
    "classes = iris_norm.classes\n",
    "\n",
    "classes_cor = {}\n",
    "cores = random_cores(len(classes))\n",
    "for index, classe in enumerate(classes):\n",
    "    classes_cor[classe] = cores[index]\n",
    "    \n",
    "for elemento in iris_norm.dataset:\n",
    "    plt.plot(elemento[0], elemento[1], 'o', color=classes_cor[elemento[-1]])\n",
    "\n",
    "for representante in iris_norm.codebook: \n",
    "    plt.plot(representante[0], representante[1], 'D' , ms=10, mfc='none', color=classes_cor[representante[-1]])\n",
    "\n",
    "plt.show()\n",
    "    \n",
    "# Sem normalização \n",
    "print(\"Algoritmo com os dados não normalizados\")\n",
    "iris = LVQ(dataset)\n",
    "iris.triagem(0.75)\n",
    "iris.resumir(n=8, e=13, t=0.5)\n",
    "print(\"Precisão: \", iris.testar(),\"% \\n\")\n",
    "# for representante in iris.representantes:\n",
    "#     print(representante)"
   ]
  }
 ],
 "metadata": {
  "anaconda-cloud": {},
  "kernelspec": {
   "display_name": "Python [conda root]",
   "language": "python",
   "name": "conda-root-py"
  },
  "language_info": {
   "codemirror_mode": {
    "name": "ipython",
    "version": 3
   },
   "file_extension": ".py",
   "mimetype": "text/x-python",
   "name": "python",
   "nbconvert_exporter": "python",
   "pygments_lexer": "ipython3",
   "version": "3.5.2"
  }
 },
 "nbformat": 4,
 "nbformat_minor": 1
}
